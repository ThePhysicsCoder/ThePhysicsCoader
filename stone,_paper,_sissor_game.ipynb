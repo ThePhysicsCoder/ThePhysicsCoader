{
  "cells": [
    {
      "cell_type": "markdown",
      "metadata": {
        "id": "view-in-github",
        "colab_type": "text"
      },
      "source": [
        "<a href=\"https://colab.research.google.com/github/ThePhysicsCoder/ThePhysicsCoader/blob/main/stone%2C_paper%2C_sissor_game.ipynb\" target=\"_parent\"><img src=\"https://colab.research.google.com/assets/colab-badge.svg\" alt=\"Open In Colab\"/></a>"
      ]
    },
    {
      "cell_type": "code",
      "execution_count": null,
      "metadata": {
        "id": "pP5a36yXTdob"
      },
      "outputs": [],
      "source": [
        "#stone, paper, sissor game\n",
        "import random\n",
        "\n",
        "options=['stone','paper','sissor']\n",
        "\n",
        "# Global score variables\n",
        "user_points = 0\n",
        "computer_points = 0\n",
        "\n",
        "def update_points(user_input, computer_input):\n",
        "    global user_points, computer_points  # <-- this line is important\n",
        "\n",
        "    if user_input == 'stone' and computer_input == 'sissor':\n",
        "        user_points += 1\n",
        "    elif user_input == 'paper' and computer_input == 'stone':\n",
        "        user_points += 1\n",
        "    elif user_input == 'sissor' and computer_input == 'paper':\n",
        "        user_points += 1\n",
        "    elif user_input == computer_input:\n",
        "        pass  # draw\n",
        "    else:\n",
        "        computer_points += 1\n",
        "\n",
        "    print(f'User points: {user_points}')\n",
        "    print(f'Computer points: {computer_points}')\n",
        "\n",
        "def play_round():\n",
        "  user_input= input(f'choose yours {options}: ').lower()\n",
        "  if user_input not in options:\n",
        "    print(\"Invalid choice! Please choose from stone, paper, or sissor.\")\n",
        "    return  # Exit the round early\n",
        "  computer_input=random.choice(options)\n",
        "  print(f'computer choose {computer_input}')\n",
        "  if user_input==computer_input:\n",
        "    print('draw')\n",
        "  elif user_input=='stone' and computer_input=='sissor':\n",
        "    print('you win')\n",
        "  elif user_input=='paper' and computer_input=='stone':\n",
        "    print('you win')\n",
        "  elif user_input=='sissor' and computer_input=='paper':\n",
        "    print('you win')\n",
        "  else:\n",
        "    print('you lose')\n",
        "  update_points(user_input, computer_input)\n",
        "\n",
        "play_round()\n",
        "\n",
        "while True:\n",
        "  try:\n",
        "    x=input('do you want to play again?(yes/no): ')\n",
        "    if x.lower()=='yes':\n",
        "      play_round()\n",
        "    elif x.lower()=='no':\n",
        "        print('thanks for playing')\n",
        "        break\n",
        "  except:\n",
        "    print('invalid input!')\n",
        "\n"
      ]
    }
  ],
  "metadata": {
    "colab": {
      "provenance": [],
      "authorship_tag": "ABX9TyM6pK2LoBidFeQnwFIi9Ny6",
      "include_colab_link": true
    },
    "kernelspec": {
      "display_name": "Python 3",
      "name": "python3"
    },
    "language_info": {
      "name": "python"
    }
  },
  "nbformat": 4,
  "nbformat_minor": 0
}